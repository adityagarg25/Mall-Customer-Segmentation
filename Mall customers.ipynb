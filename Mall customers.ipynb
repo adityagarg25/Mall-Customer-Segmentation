{
 "cells": [
  {
   "cell_type": "markdown",
   "metadata": {},
   "source": [
    "# CUSTOMER SEGMENTATION OF MALL CUSTOMERS\n",
    "## Using unsupervised learning (KMeans)\n",
    "### Importing the Libraries and the Data"
   ]
  },
  {
   "cell_type": "code",
   "execution_count": null,
   "metadata": {},
   "outputs": [],
   "source": [
    "import pandas as pd\n",
    "import numpy as np\n",
    "import seaborn as sns\n",
    "import matplotlib.pyplot as plt\n",
    "from sklearn.preprocessing import StandardScaler\n",
    "from sklearn.cluster import KMeans\n",
    "from sklearn.decomposition import PCA"
   ]
  },
  {
   "cell_type": "code",
   "execution_count": null,
   "metadata": {},
   "outputs": [],
   "source": [
    "#importing the data\n",
    "df = pd.read_csv('Mall_Customers.csv')"
   ]
  },
  {
   "cell_type": "code",
   "execution_count": null,
   "metadata": {},
   "outputs": [],
   "source": [
    "df.head()"
   ]
  },
  {
   "cell_type": "code",
   "execution_count": null,
   "metadata": {},
   "outputs": [],
   "source": [
    "df = df.rename(columns ={'Annual Income (k$)':'Annual Income', 'Spending Score (1-100)':'Spend Score'})\n",
    "df['Gender'].replace(0, 'Female',inplace=True)\n",
    "df['Gender'].replace(1, 'Male',inplace=True)"
   ]
  },
  {
   "cell_type": "code",
   "execution_count": null,
   "metadata": {},
   "outputs": [],
   "source": [
    "df.head()"
   ]
  },
  {
   "cell_type": "code",
   "execution_count": null,
   "metadata": {},
   "outputs": [],
   "source": [
    "df.info()"
   ]
  },
  {
   "cell_type": "code",
   "execution_count": null,
   "metadata": {},
   "outputs": [],
   "source": [
    "df.shape"
   ]
  },
  {
   "cell_type": "code",
   "execution_count": null,
   "metadata": {},
   "outputs": [],
   "source": [
    "df.describe()"
   ]
  },
  {
   "cell_type": "code",
   "execution_count": null,
   "metadata": {},
   "outputs": [],
   "source": [
    "df[df['Spend Score'] == 99]"
   ]
  },
  {
   "cell_type": "markdown",
   "metadata": {},
   "source": [
    "## Data Cleaning"
   ]
  },
  {
   "cell_type": "code",
   "execution_count": null,
   "metadata": {},
   "outputs": [],
   "source": [
    "sns.heatmap(df.isnull(), yticklabels = False, cbar= False, cmap = 'Reds')"
   ]
  },
  {
   "cell_type": "code",
   "execution_count": null,
   "metadata": {},
   "outputs": [],
   "source": [
    "df.isnull().sum()"
   ]
  },
  {
   "cell_type": "code",
   "execution_count": null,
   "metadata": {},
   "outputs": [],
   "source": [
    "df.duplicated().sum()"
   ]
  },
  {
   "cell_type": "code",
   "execution_count": null,
   "metadata": {},
   "outputs": [],
   "source": [
    "df.drop('CustomerID',axis=1, inplace = True)"
   ]
  },
  {
   "cell_type": "code",
   "execution_count": null,
   "metadata": {},
   "outputs": [],
   "source": [
    "df.head()"
   ]
  },
  {
   "cell_type": "markdown",
   "metadata": {},
   "source": [
    "## Data Visualization\n",
    "### Univariate Analysis"
   ]
  },
  {
   "cell_type": "code",
   "execution_count": null,
   "metadata": {},
   "outputs": [],
   "source": [
    "#DISTPLOT\n",
    "plt.figure(figsize=(5,15))\n",
    "for i in range(1,4):\n",
    "    plt.subplot(4,1,i+1)\n",
    "    sns.distplot(df[df.columns[i]], kde_kws= {\"color\": \"b\", \"lw\": 3, \"label\": \"KDE\"}, hist_kws={\"histtype\": \"step\",\"linewidth\": 3,\"color\": \"g\"})\n",
    "    plt.title(df.columns[i])\n",
    "    \n",
    "plt.tight_layout()"
   ]
  },
  {
   "cell_type": "code",
   "execution_count": null,
   "metadata": {},
   "outputs": [],
   "source": [
    "#COUNTPLOT:Bargraph\n",
    "plt.figure(figsize=(6,3))\n",
    "sns.countplot(data = df , y ='Gender')"
   ]
  },
  {
   "cell_type": "markdown",
   "metadata": {},
   "source": [
    "### Bivariate Analysis"
   ]
  },
  {
   "cell_type": "code",
   "execution_count": null,
   "metadata": {},
   "outputs": [],
   "source": [
    "#BOXPLOT\n",
    "plt.figure(figsize = (20,10))\n",
    "x=0\n",
    "for i in ['Annual Income','Spend Score']:\n",
    "    x=x+1\n",
    "    plt.subplot(2,2,x)\n",
    "    sns.boxplot(data=df , x=i, y = 'Gender' )\n",
    "plt.show()\n"
   ]
  },
  {
   "cell_type": "code",
   "execution_count": null,
   "metadata": {},
   "outputs": [],
   "source": [
    "#VIOLINPLOT\n",
    "plt.figure(figsize = (10,10))\n",
    "x = 0\n",
    "for i in ['Annual Income','Spend Score']:\n",
    "    x = x+1\n",
    "    plt.subplot(2,2,x)\n",
    "    sns.violinplot(data = df, y =\"Gender\", x = i)\n",
    "plt.show()"
   ]
  },
  {
   "cell_type": "markdown",
   "metadata": {},
   "source": [
    "### Multivariate Analysis"
   ]
  },
  {
   "cell_type": "code",
   "execution_count": null,
   "metadata": {},
   "outputs": [],
   "source": [
    "#PAIRPLOT\n",
    "sns.pairplot(df)\n",
    "plt.show()"
   ]
  },
  {
   "cell_type": "code",
   "execution_count": null,
   "metadata": {},
   "outputs": [],
   "source": [
    "#HEATMAP:Correlation\n",
    "corr = df.corr()\n",
    "plt.figure(figsize=(10,5))\n",
    "sns.heatmap(corr, annot=True)"
   ]
  },
  {
   "cell_type": "markdown",
   "metadata": {},
   "source": [
    "## Data Modelling\n",
    "### Applying Elbow Method"
   ]
  },
  {
   "cell_type": "code",
   "execution_count": null,
   "metadata": {},
   "outputs": [],
   "source": [
    "#Selecting the annual income and spend score columns to apply the model to.(because could not convert string to float in first column)\n",
    "X = df.drop('Gender',axis=1)"
   ]
  },
  {
   "cell_type": "code",
   "execution_count": null,
   "metadata": {},
   "outputs": [],
   "source": [
    "#Applying the Elbow method to find the appropriate number of clusters\n",
    "wcss = []\n",
    "for i in range(1,11):\n",
    "    kmeans = KMeans(n_clusters = i, init = 'k-means++', max_iter = 300, n_init= 10,random_state = 0)\n",
    "    kmeans.fit(X)\n",
    "    wcss.append(kmeans.inertia_)\n",
    "    \n",
    "plt.plot(wcss)\n",
    "plt.title('Elbow Method')\n",
    "#init = KMeans++ in order to prevent falling into random initialization trap.\n",
    "#from the below graph we can say that the two possible elbow points are 3 and 5."
   ]
  },
  {
   "cell_type": "markdown",
   "metadata": {},
   "source": [
    "### Applying Kmeans to the dataset"
   ]
  },
  {
   "cell_type": "code",
   "execution_count": null,
   "metadata": {},
   "outputs": [],
   "source": [
    "#taking the number of clusters as 3 \n",
    "kmeans3 = KMeans( n_clusters = 3, init='k-means++',n_init = 10, max_iter = 300, random_state =0)\n",
    "kmeans3.fit_transform(X)\n",
    "labels = kmeans3.labels_"
   ]
  },
  {
   "cell_type": "code",
   "execution_count": null,
   "metadata": {},
   "outputs": [],
   "source": [
    "#Scatter plot for 3 clusters\n",
    "plt.figure(figsize = (15,10))\n",
    "sns.set_style('whitegrid')\n",
    "sns.scatterplot( X['Annual Income'], X['Spend Score'], hue=labels, palette=sns.color_palette('hls', 3))\n",
    "plt.title('KMeans with 3 Clusters')\n",
    "plt.show()"
   ]
  },
  {
   "cell_type": "code",
   "execution_count": null,
   "metadata": {},
   "outputs": [],
   "source": [
    "#taking the number of cluster=5\n",
    "kmeans5 = KMeans(n_clusters = 5,init='k-means++',n_init=10,max_iter=300,random_state=0)\n",
    "kmeans5.fit_transform(X)\n",
    "labels = kmeans5.labels_"
   ]
  },
  {
   "cell_type": "code",
   "execution_count": null,
   "metadata": {},
   "outputs": [],
   "source": [
    "#Scatter plot for 5 clusters\n",
    "plt.figure(figsize = (15,10))\n",
    "sns.scatterplot(X['Annual Income'],X['Spend Score'], hue=labels,palette=sns.color_palette('hsv',5))\n",
    "plt.title('KMeans with 5 Clusters')\n",
    "plt.show()"
   ]
  },
  {
   "cell_type": "markdown",
   "metadata": {},
   "source": [
    "#### Hence, We can analyze the 5 clusters a s follows:\n",
    "##### a. Label  : Low Income and Low Spending\n",
    "##### b. Label  : High Income and High Spending\n",
    "##### c. Label  : Medium Income and Medium Spending\n",
    "##### d. Label : High Income and Low Spending\n",
    "##### e. Label : Low Income and High Spending"
   ]
  },
  {
   "cell_type": "code",
   "execution_count": null,
   "metadata": {},
   "outputs": [],
   "source": [
    "fig = plt.figure(figsize=(20,8))\n",
    "ax = fig.add_subplot(121)\n",
    "sns.swarmplot(x=labels, y='Annual Income', data=X, ax=ax)\n",
    "ax.set_title('Labels According to Annual Income')\n",
    "\n",
    "ax = fig.add_subplot(122)\n",
    "sns.swarmplot(x=labels, y='Spend Score', data=X, ax=ax)\n",
    "ax.set_title('Labels According to Scoring History')\n",
    "\n",
    "plt.show()"
   ]
  }
 ],
 "metadata": {
  "kernelspec": {
   "display_name": "Python 3",
   "language": "python",
   "name": "python3"
  },
  "language_info": {
   "codemirror_mode": {
    "name": "ipython",
    "version": 3
   },
   "file_extension": ".py",
   "mimetype": "text/x-python",
   "name": "python",
   "nbconvert_exporter": "python",
   "pygments_lexer": "ipython3",
   "version": "3.7.6"
  }
 },
 "nbformat": 4,
 "nbformat_minor": 4
}
